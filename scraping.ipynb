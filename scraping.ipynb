{
 "cells": [
  {
   "cell_type": "markdown",
   "metadata": {},
   "source": [
    "Python BeautifulSoup "
   ]
  },
  {
   "cell_type": "code",
   "execution_count": 3,
   "metadata": {},
   "outputs": [],
   "source": [
    "from bs4 import BeautifulSoup\n",
    "import requests\n",
    "import pandas as pd\n"
   ]
  },
  {
   "cell_type": "code",
   "execution_count": null,
   "metadata": {},
   "outputs": [],
   "source": [
    "def get_matches(year):\n",
    "    years = [2000, 2004, 2008, 2012, 2016, 2020, 2024]\n",
    "    web = f'https://en.wikipedia.org/wiki/UEFA_Euro_{year}'\n",
    "    response = requests.get(web)\n",
    "    content = response.text\n",
    "    soup = BeautifulSoup(content, 'lxml')\n",
    "\n",
    "    home = []\n",
    "    score = []\n",
    "    away = []\n",
    "\n",
    "\n",
    "\n",
    "    matches = soup.find_all('div', class_='footballbox')\n",
    "    for match in matches:\n",
    "        home.append(match.find('th', class_='fhome').get_text())\n",
    "        score.append(match.find('th', class_='fscore').get_text())\n",
    "        away.append(match.find('th', class_='faway').get_text())\n",
    "\n",
    "    dict_match = {'Home': home, 'Score': score, 'Away': away}\n",
    "\n",
    "    df_match = pd.DataFrame(dict_match)\n",
    "    df_match['Year'] = year\n",
    "    return df_match\n",
    "\n"
   ]
  },
  {
   "cell_type": "code",
   "execution_count": null,
   "metadata": {},
   "outputs": [],
   "source": [
    "\n",
    "get_matches(2024)"
   ]
  }
 ],
 "metadata": {
  "kernelspec": {
   "display_name": ".venv",
   "language": "python",
   "name": "python3"
  },
  "language_info": {
   "codemirror_mode": {
    "name": "ipython",
    "version": 3
   },
   "file_extension": ".py",
   "mimetype": "text/x-python",
   "name": "python",
   "nbconvert_exporter": "python",
   "pygments_lexer": "ipython3",
   "version": "3.12.7"
  }
 },
 "nbformat": 4,
 "nbformat_minor": 2
}
